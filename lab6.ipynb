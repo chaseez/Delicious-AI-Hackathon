{
 "cells": [
  {
   "cell_type": "markdown",
   "metadata": {},
   "source": [
    "<a \n",
    "href=\"https://colab.research.google.com/github/wingated/cs474_labs_f2019/blob/master/DL_Lab6.ipynb\"\n",
    "  target=\"_parent\">\n",
    "  <img\n",
    "    src=\"https://colab.research.google.com/assets/colab-badge.svg\"\n",
    "    alt=\"Open In Colab\"/>\n",
    "</a>"
   ]
  },
  {
   "cell_type": "markdown",
   "metadata": {
    "colab_type": "text",
    "id": "cksgAH12XRjV"
   },
   "source": [
    "# Lab 6: Sequence-to-sequence models\n",
    "\n",
    "### Description:\n",
    "For this lab, you will code up the [char-rnn model of Karpathy](http://karpathy.github.io/2015/05/21/rnn-effectiveness/). This is a recurrent neural network that is trained probabilistically on sequences of characters, and that can then be used to sample new sequences that are like the original.\n",
    "\n",
    "This lab will help you develop several new skills, as well as understand some best practices needed for building large models. In addition, we'll be able to create networks that generate neat text!\n",
    "\n",
    "### Deliverable:\n",
    "- Fill in the code for the RNN (using PyTorch's built-in GRU).\n",
    "- Fill in the training loop\n",
    "- Fill in the evaluation loop. In this loop, rather than using a validation set, you will sample text from the RNN.\n",
    "- Implement your own GRU cell.\n",
    "- Train your RNN on a new domain of text (Star Wars, political speeches, etc. - have fun!)\n",
    "\n",
    "### Grading Standards:\n",
    "- 20% Implementation the RNN\n",
    "- 20% Implementation training loop\n",
    "- 20% Implementation of evaluation loop\n",
    "- 20% Implementation of your own GRU cell\n",
    "- 20% Training of your RNN on a domain of your choice\n",
    "\n",
    "### Tips:\n",
    "- Read through all the helper functions, run them, and make sure you understand what they are doing\n",
    "- At each stage, ask yourself: What should the dimensions of this tensor be? Should its data type be float or int? (int is called `long` in PyTorch)\n",
    "- Don't apply a softmax inside the RNN if you are using an nn.CrossEntropyLoss (this module already applies a softmax to its input).\n",
    "\n",
    "### Example Output:\n",
    "An example of my final samples are shown below (more detail in the\n",
    "final section of this writeup), after 150 passes through the data.\n",
    "Please generate about 15 samples for each dataset.\n",
    "\n",
    "<code>\n",
    "And ifte thin forgision forward thene over up to a fear not your\n",
    "And freitions, which is great God. Behold these are the loss sub\n",
    "And ache with the Lord hath bloes, which was done to the holy Gr\n",
    "And appeicis arm vinimonahites strong in name, to doth piseling \n",
    "And miniquithers these words, he commanded order not; neither sa\n",
    "And min for many would happine even to the earth, to said unto m\n",
    "And mie first be traditions? Behold, you, because it was a sound\n",
    "And from tike ended the Lamanites had administered, and I say bi\n",
    "</code>\n"
   ]
  },
  {
   "cell_type": "markdown",
   "metadata": {
    "colab_type": "text",
    "id": "c2i_QpSsWG4c"
   },
   "source": [
    "---\n",
    "\n",
    "## Part 0: Readings, data loading, and high level training\n",
    "\n",
    "---\n",
    "\n",
    "There is a tutorial here that will help build out scaffolding code, and get an understanding of using sequences in pytorch.\n",
    "\n",
    "* Read the following\n",
    "\n",
    "> * [Pytorch sequence-to-sequence tutorial](https://pytorch.org/tutorials/intermediate/seq2seq_translation_tutorial.html) (You will be implementing the decoder, not the encoder, as we are not doing sequence-to-sequence translation.)\n",
    "> * [Understanding LSTM Networks](http://colah.github.io/posts/2015-08-Understanding-LSTMs/)\n",
    "\n",
    "\n",
    "\n",
    "\n"
   ]
  },
  {
   "cell_type": "code",
   "execution_count": 1,
   "metadata": {
    "colab": {},
    "colab_type": "code",
    "id": "l7bdZWxvJrsx"
   },
   "outputs": [
    {
     "name": "stdout",
     "output_type": "stream",
     "text": [
      "file_len = 2579888\n"
     ]
    }
   ],
   "source": [
    "import unidecode\n",
    "import string\n",
    "import random\n",
    " \n",
    "all_characters = string.printable\n",
    "n_characters = len(all_characters)\n",
    "file = unidecode.unidecode(open('./text_files/lotr.txt').read())\n",
    "file_len = len(file)\n",
    "print('file_len =', file_len)"
   ]
  },
  {
   "cell_type": "code",
   "execution_count": 2,
   "metadata": {
    "colab": {},
    "colab_type": "code",
    "id": "TxBeKeNjJ0NQ"
   },
   "outputs": [
    {
     "name": "stdout",
     "output_type": "stream",
     "text": [
      "ch \n",
      "a weight.' \n",
      "\n",
      "Sam knew before he spoke, that it was vain, and that such words might \n",
      "do more harm than good, but in his pity he could not keep silent. 'Then let \n",
      "me carry it a bit for you, Master,' \n"
     ]
    }
   ],
   "source": [
    "chunk_len = 200\n",
    " \n",
    "def random_chunk():\n",
    "  start_index = random.randint(0, file_len - chunk_len)\n",
    "  end_index = start_index + chunk_len + 1\n",
    "  return file[start_index:end_index]\n",
    "  \n",
    "print(random_chunk())"
   ]
  },
  {
   "cell_type": "code",
   "execution_count": 3,
   "metadata": {
    "colab": {},
    "colab_type": "code",
    "id": "On0_WitWJ99e"
   },
   "outputs": [
    {
     "name": "stdout",
     "output_type": "stream",
     "text": [
      "tensor([10, 11, 12, 39, 40, 41])\n"
     ]
    }
   ],
   "source": [
    "import torch\n",
    "# Turn string into list of longs\n",
    "def char_tensor(string):\n",
    "  tensor = torch.zeros(len(string)).long()\n",
    "  for c in range(len(string)):\n",
    "      tensor[c] = all_characters.index(string[c])\n",
    "  return tensor\n",
    "\n",
    "print(char_tensor('abcDEF'))"
   ]
  },
  {
   "cell_type": "markdown",
   "metadata": {
    "colab_type": "text",
    "id": "CYJPTLcaYmfI"
   },
   "source": [
    "---\n",
    "\n",
    "## Part 4: Creating your own GRU cell \n",
    "\n",
    "**(Come back to this later - its defined here so that the GRU will be defined before it is used)**\n",
    "\n",
    "---\n",
    "\n",
    "The cell that you used in Part 1 was a pre-defined Pytorch layer. Now, write your own GRU class using the same parameters as the built-in Pytorch class does.\n",
    "\n",
    "Please do not look at the documentation's code for the GRU cell definition. The answer is right there in the code, and in theory, you could just cut-and-paste it. This bit is on your honor!\n",
    "\n",
    "**TODO:**\n",
    "* Create a custom GRU cell\n",
    "\n",
    "**DONE:**\n",
    "\n"
   ]
  },
  {
   "cell_type": "code",
   "execution_count": 4,
   "metadata": {
    "colab": {},
    "colab_type": "code",
    "id": "aavAv50ZKQ-F"
   },
   "outputs": [],
   "source": [
    "import torch\n",
    "import torch.nn as nn\n",
    "import torch.nn.functional as F\n",
    "\n",
    "\n",
    "class GRUCell(nn.Module):\n",
    "  def __init__(self, input_size, hidden_size):\n",
    "    self.total_size = input_size, hidden_size\n",
    "    self.W_hr = nn.Linear(hidden_size, hidden_size)\n",
    "    self.W_hz = nn.Linear(hidden_size, hidden_size)\n",
    "    self.W_hn = nn.Linear(hidden_size, hidden_size)\n",
    "    self.W_ir = nn.Linear(input_size, hidden_size)\n",
    "    self.W_iz = nn.Linear(input_size, hidden_size)\n",
    "    self.W_in = nn.Linear(input_size, hidden_size)\n",
    "    self.sig = F.sigmoid\n",
    "    self.tanh = F.tanh\n",
    "\n",
    "\n",
    "  def forward(self, input, hidden):\n",
    "    # Each layer does the following:\n",
    "    # r_t = sigmoid(W_ir*x_t + b_ir + W_hr*h_(t-1) + b_hr)\n",
    "    # z_t = sigmoid(W_iz*x_t + b_iz + W_hz*h_(t-1) + b_hz)\n",
    "    # n_t = tanh(W_in*x_t + b_in + r_t**(W_hn*h_(t-1) + b_hn))\n",
    "    # h_(t) = (1 - z_t)**n_t + z_t**h_(t-1)\n",
    "    # Where ** is hadamard product (not matrix multiplication, but elementwise multiplication)\n",
    "    r_t = self.sig(self.W_ir(input) + self.W_hr(hidden))\n",
    "    z_t = self.sig(self.W_iz(input) + self.W_hz(hidden))\n",
    "    n = self.tanh(self.W_in(input) + r_t * self.W_hn(hidden))\n",
    "    h_updated = (1 - z_t) * n + z_t * hidden\n",
    "    return h_updated\n",
    "\n",
    "\n",
    "class GRU(nn.Module):\n",
    "  def __init__(self, input_size, hidden_size, num_layers):\n",
    "    super(GRU, self).__init__()\n",
    "    self.layers = [GRUCell(input_size, hidden_size) for _ in num_layers]\n",
    "\n",
    "  def forward(self, input, hidden):\n",
    "    hiddens = []\n",
    "    h_next = None\n",
    "    for cell in self.layers:\n",
    "      if h_next is None: # Initialize the h_next var\n",
    "        h_next = cell(input, hidden)\n",
    "      else:\n",
    "        h_next = cell(h_next, hidden)\n",
    "      hiddens.append(h_next) # Keep track of all the hidden states\n",
    "      \n",
    "    return h_next, hiddens # Only pass the last h_next as output\n"
   ]
  },
  {
   "cell_type": "markdown",
   "metadata": {
    "colab_type": "text",
    "id": "qtXdX-B_WiAY"
   },
   "source": [
    "---\n",
    "\n",
    "##  Part 1: Building a sequence to sequence model\n",
    "\n",
    "---\n",
    "\n",
    "Great! We have the data in a useable form. We can switch out which text file we are reading from, and trying to simulate.\n",
    "\n",
    "We now want to build out an RNN model, in this section, we will use all built in Pytorch pieces when building our RNN class.\n",
    "\n",
    "\n",
    "**TODO:**\n",
    "* Create an RNN class that extends from nn.Module.\n",
    "\n",
    "**DONE:**\n",
    "\n"
   ]
  },
  {
   "cell_type": "code",
   "execution_count": 5,
   "metadata": {
    "colab": {},
    "colab_type": "code",
    "id": "d6tNdEnzWj5F"
   },
   "outputs": [],
   "source": [
    "class RNN(nn.Module):\n",
    "  def __init__(self, input_size, hidden_size, output_size, n_layers=1):\n",
    "    super(RNN, self).__init__()\n",
    "    self.input_size = input_size\n",
    "    self.hidden_size = hidden_size\n",
    "    self.output_size = output_size\n",
    "    self.n_layers = n_layers\n",
    "    \n",
    "    # more stuff here...\n",
    "    self.embedding = nn.Embedding(output_size, hidden_size)\n",
    "    self.gru = nn.GRU(hidden_size, hidden_size, n_layers)\n",
    "    self.out = nn.Linear(hidden_size, output_size)\n",
    "    self.relu = F.relu\n",
    "\n",
    "  def forward(self, input_char, hidden):\n",
    "    # by reviewing the documentation, construct a forward function that properly uses the output\n",
    "    # of the GRU\n",
    "    # stuff here\n",
    "    output = self.embedding(input_char).view(1,1,-1)\n",
    "    output = self.relu(output)\n",
    "    output, hidden = self.gru(output, hidden)\n",
    "    output = self.out(output)\n",
    "    return output, hidden\n",
    "\n",
    "  def init_hidden(self):\n",
    "    return torch.zeros(self.n_layers, 1, self.hidden_size)"
   ]
  },
  {
   "cell_type": "code",
   "execution_count": 6,
   "metadata": {
    "colab": {},
    "colab_type": "code",
    "id": "hrhXghEPKD-5"
   },
   "outputs": [],
   "source": [
    "def random_training_set():    \n",
    "  chunk = random_chunk()\n",
    "  inp = char_tensor(chunk[:-1])\n",
    "  target = char_tensor(chunk[1:])\n",
    "  return inp, target"
   ]
  },
  {
   "cell_type": "markdown",
   "metadata": {
    "colab_type": "text",
    "id": "ZpiGObbBX0Mr"
   },
   "source": [
    "---\n",
    "\n",
    "## Part 2: Sample text and Training information\n",
    "\n",
    "---\n",
    "\n",
    "We now want to be able to train our network, and sample text after training.\n",
    "\n",
    "This function outlines how training a sequence style network goes. \n",
    "\n",
    "**TODO:**\n",
    "* Fill in the pieces.\n",
    "\n",
    "**DONE:**\n",
    "\n",
    "\n"
   ]
  },
  {
   "cell_type": "code",
   "execution_count": 7,
   "metadata": {},
   "outputs": [],
   "source": [
    "# NOTE: decoder_optimizer, decoder, and criterion will be defined below as global variables\n",
    "device = torch.device('mps')\n",
    "decoder = RNN(input_size=n_characters, output_size=n_characters, hidden_size=200)\n",
    "decoder.to(device)\n",
    "\n",
    "decoder_optimizer = torch.optim.Adam(decoder.parameters(), lr=1e-3)\n",
    "criterion = F.cross_entropy"
   ]
  },
  {
   "cell_type": "code",
   "execution_count": 8,
   "metadata": {
    "colab": {},
    "colab_type": "code",
    "id": "2ALC3Pf8Kbsi"
   },
   "outputs": [],
   "source": [
    "def train(inp, target):\n",
    "  ## initialize hidden layers, set up gradient and loss \n",
    "    # your code here\n",
    "  ## /\n",
    "\n",
    "  decoder_optimizer.zero_grad()\n",
    "  hidden = decoder.init_hidden().to(device)\n",
    "  loss = 0\n",
    "\n",
    "  for char, targ in zip(inp, target):\n",
    "    output, hidden = decoder(char, hidden)\n",
    "    loss += criterion(output.squeeze(0), targ.unsqueeze(0))\n",
    "\n",
    "  loss.backward()\n",
    "\n",
    "  decoder_optimizer.step()\n",
    "  \n",
    "  loss_score = loss.item()/len(inp)\n",
    "  return loss_score\n"
   ]
  },
  {
   "cell_type": "code",
   "execution_count": 13,
   "metadata": {},
   "outputs": [
    {
     "data": {
      "text/plain": [
       "2.154527282714844"
      ]
     },
     "execution_count": 13,
     "metadata": {},
     "output_type": "execute_result"
    }
   ],
   "source": [
    "inp, target = random_training_set()\n",
    "inp, target = inp.to(device), target.to(device)\n",
    "train(inp, target)"
   ]
  },
  {
   "cell_type": "markdown",
   "metadata": {
    "colab_type": "text",
    "id": "EN06NUu3YRlz"
   },
   "source": [
    "---\n",
    "\n",
    "## Part 3: Sample text and Training information\n",
    "\n",
    "---\n",
    "\n",
    "You can at this time, if you choose, also write out your train loop boilerplate that samples random sequences and trains your RNN. This will be helpful to have working before writing your own GRU class.\n",
    "\n",
    "If you are finished training, or during training, and you want to sample from the network you may consider using the following function. If your RNN model is instantiated as `decoder`then this will probabilistically sample a sequence of length `predict_len`\n",
    "\n",
    "**TODO:**\n",
    "* Fill out the evaluate function to generate text frome a primed string\n",
    "\n",
    "**DONE:**\n",
    "\n"
   ]
  },
  {
   "cell_type": "code",
   "execution_count": 10,
   "metadata": {
    "colab": {},
    "colab_type": "code",
    "id": "B-bp-OZ1KjNh"
   },
   "outputs": [],
   "source": [
    "def sample_outputs(output, temperature):\n",
    "    \"\"\"Takes in a vector of unnormalized probability weights and samples a character from the distribution\"\"\"\n",
    "    # As temperature approaches 0, this sampling function becomes argmax (no randomness)\n",
    "    # As temperature approaches infinity, this sampling function becomes a purely random choice\n",
    "    return torch.multinomial(torch.exp(output / temperature), 1)\n",
    "\n",
    "def evaluate(prime_str='A', predict_len=100, temperature=0.8):\n",
    "    ## initialize hidden state, initialize other useful variables\n",
    "      # your code here\n",
    "    ## /\n",
    "    print(f'{prime_str}:\\n')\n",
    "    with torch.no_grad():\n",
    "      hidden = decoder.init_hidden().to(device)\n",
    "      prime_chars = char_tensor(prime_str).to(device)\n",
    "\n",
    "      for c in prime_chars[:-1]:\n",
    "          out, hidden = decoder(c, hidden)\n",
    "      eval_char = prime_chars[-1].to(device)\n",
    "\n",
    "      prediction = prime_str\n",
    "      for k in range(predict_len):\n",
    "          out, hidden = decoder(eval_char, hidden)\n",
    "          prob_distrib = out.data.view(-1).div(temperature).exp()\n",
    "          #print(prob_distrib)\n",
    "          select_ind = torch.multinomial(prob_distrib, 1)[0]\n",
    "          select_ind = min(99, select_ind)\n",
    "          #print(select_ind)\n",
    "          #print(len(all_characters))\n",
    "\n",
    "          char_choice = all_characters[select_ind]\n",
    "          eval_char = char_tensor(char_choice).to(device)\n",
    "          prediction += char_choice\n",
    "\n",
    "    return prediction\n",
    "\n",
    "  "
   ]
  },
  {
   "cell_type": "markdown",
   "metadata": {
    "colab_type": "text",
    "id": "Du4AGA8PcFEW"
   },
   "source": [
    "---\n",
    "\n",
    "## Part 4: (Create a GRU cell, requirements above)\n",
    "\n",
    "---\n"
   ]
  },
  {
   "cell_type": "markdown",
   "metadata": {
    "colab_type": "text",
    "id": "GFS2bpHSZEU6"
   },
   "source": [
    "\n",
    "---\n",
    "\n",
    "## Part 5: Run it and generate some text!\n",
    "\n",
    "---\n",
    "\n",
    "\n",
    "**TODO:** \n",
    "* Create some cool output\n",
    "\n",
    "**DONE:**\n",
    "\n",
    "\n",
    "\n",
    "\n",
    "Assuming everything has gone well, you should be able to run the main function in the scaffold code, using either your custom GRU cell or the built in layer, and see output something like this. I trained on the “lotr.txt” dataset, using chunk_length=200, hidden_size=100 for 2000 epochs. These are the results, along with the prime string:\n",
    "\n",
    "---\n",
    "\n",
    " G:\n",
    " \n",
    " Gandalf was decrond. \n",
    "'All have lord you. Forward the road at least walk this is stuff, and \n",
    "went to the long grey housel-winding and kindled side was a sleep pleasuring, I do long \n",
    "row hrough. In  \n",
    "\n",
    " lo:\n",
    " \n",
    " lost death it. \n",
    "'The last of the gatherings and take you,' said Aragorn, shining out of the Gate. \n",
    "'Yes, as you there were remembaused to seen their pass, when? What \n",
    "said here, such seven an the sear \n",
    "\n",
    " lo:\n",
    " \n",
    " low, and frod to keepn \n",
    "Came of their most. But here priced doubtless to an Sam up is \n",
    "masters; he left hor as they are looked. And he could now the long to stout in the right fro horseless of \n",
    "the like \n",
    "\n",
    " I:\n",
    " \n",
    " I had been the \n",
    "in his eyes with the perushed to lest, if then only the ring and the legended \n",
    "of the less of the long they which as the \n",
    "enders of Orcovered and smood, and the p \n",
    "\n",
    " I:\n",
    " \n",
    " I they were not the lord of the hoomes. \n",
    "Home already well from the Elves. And he sat strength, and we \n",
    "housed out of the good of the days to the mountains from his perith. \n",
    "\n",
    "'Yess! Where though as if  \n",
    "\n",
    " Th:\n",
    " \n",
    " There yarden \n",
    "you would guard the hoor might. Far and then may was \n",
    "croties, too began to see the drumbred many line \n",
    "and was then hoard walk and they heart, and the chair of the \n",
    "Ents of way, might was \n",
    "\n",
    " G:\n",
    " \n",
    " Gandalf \n",
    "been lat of less the round of the stump; both and seemed to the trees and perished they \n",
    "lay are speered the less; and the wind the steep and have to she \n",
    "precious. There was in the oonly went \n",
    "\n",
    " wh:\n",
    " \n",
    " which went out of the door. \n",
    "Hull the King and of the The days of his brodo \n",
    "stumbler of the windard was a thing there, then it been shining langing \n",
    "to him poor land. They hands; though they seemed ou \n",
    "\n",
    " ra:\n",
    " \n",
    " rather,' have all the least deather \n",
    "down of the truven beginning to the house of sunk. \n",
    "'Nark shorts of the Eyes of the Gate your great nothing as Eret. \n",
    "'I wander trust horn, and there were not, it  \n",
    "\n",
    " I:\n",
    " \n",
    " I can have no mind \n",
    "together! Where don't may had one may little blung \n",
    "terrible to tales. And turn and Gandalf shall be not to as only the Cattring \n",
    "not stopped great the out them forms. On they she lo \n",
    "\n",
    "---\n"
   ]
  },
  {
   "cell_type": "code",
   "execution_count": 11,
   "metadata": {
    "colab": {},
    "colab_type": "code",
    "id": "-nXFeCmdKodw"
   },
   "outputs": [],
   "source": [
    "import time\n",
    "n_epochs = 5000\n",
    "print_every = 200\n",
    "plot_every = 10\n",
    "hidden_size = 200\n",
    "n_layers = 3\n",
    "lr = 0.001\n",
    " \n",
    "decoder = RNN(n_characters, hidden_size, n_characters, n_layers).to(device)\n",
    "decoder_optimizer = torch.optim.Adam(decoder.parameters(), lr=lr)\n",
    "criterion = nn.CrossEntropyLoss()\n",
    " \n",
    "start = time.time()\n",
    "all_losses = []\n",
    "loss_avg = 0"
   ]
  },
  {
   "cell_type": "code",
   "execution_count": 12,
   "metadata": {
    "colab": {},
    "colab_type": "code",
    "id": "xKfozqw-6eqb"
   },
   "outputs": [
    {
     "name": "stdout",
     "output_type": "stream",
     "text": [
      "[838.3874611854553 (200 10%) 2.5717]\n",
      "Whe loved ths the coy te8in the swant und \n",
      "Sa tae in osv he or as tum \n",
      "Sor lir hebous \n",
      "laf he h or. as \n",
      "\n"
     ]
    },
    {
     "ename": "KeyboardInterrupt",
     "evalue": "",
     "output_type": "error",
     "traceback": [
      "\u001b[0;31m---------------------------------------------------------------------------\u001b[0m",
      "\u001b[0;31mKeyboardInterrupt\u001b[0m                         Traceback (most recent call last)",
      "Cell \u001b[0;32mIn[12], line 5\u001b[0m\n\u001b[1;32m      3\u001b[0m   inp, target \u001b[38;5;241m=\u001b[39m random_training_set()\n\u001b[1;32m      4\u001b[0m   inp, target \u001b[38;5;241m=\u001b[39m inp\u001b[38;5;241m.\u001b[39mto(device), target\u001b[38;5;241m.\u001b[39mto(device)\n\u001b[0;32m----> 5\u001b[0m   loss_ \u001b[38;5;241m=\u001b[39m train(inp, target)\n\u001b[1;32m      6\u001b[0m   loss_avg \u001b[38;5;241m+\u001b[39m\u001b[38;5;241m=\u001b[39m loss_\n\u001b[1;32m      7\u001b[0m \u001b[38;5;66;03m#   print('l')\u001b[39;00m\n",
      "Cell \u001b[0;32mIn[8], line 14\u001b[0m, in \u001b[0;36mtrain\u001b[0;34m(inp, target)\u001b[0m\n\u001b[1;32m     11\u001b[0m   output, hidden \u001b[38;5;241m=\u001b[39m decoder(char, hidden)\n\u001b[1;32m     12\u001b[0m   loss \u001b[38;5;241m+\u001b[39m\u001b[38;5;241m=\u001b[39m criterion(output\u001b[38;5;241m.\u001b[39msqueeze(\u001b[38;5;241m0\u001b[39m), targ\u001b[38;5;241m.\u001b[39munsqueeze(\u001b[38;5;241m0\u001b[39m))\n\u001b[0;32m---> 14\u001b[0m loss\u001b[38;5;241m.\u001b[39mbackward()\n\u001b[1;32m     16\u001b[0m decoder_optimizer\u001b[38;5;241m.\u001b[39mstep()\n\u001b[1;32m     18\u001b[0m loss_score \u001b[38;5;241m=\u001b[39m loss\u001b[38;5;241m.\u001b[39mitem()\u001b[38;5;241m/\u001b[39m\u001b[38;5;28mlen\u001b[39m(inp)\n",
      "File \u001b[0;32m~/opt/anaconda3/envs/ML/lib/python3.11/site-packages/torch/_tensor.py:522\u001b[0m, in \u001b[0;36mTensor.backward\u001b[0;34m(self, gradient, retain_graph, create_graph, inputs)\u001b[0m\n\u001b[1;32m    512\u001b[0m \u001b[38;5;28;01mif\u001b[39;00m has_torch_function_unary(\u001b[38;5;28mself\u001b[39m):\n\u001b[1;32m    513\u001b[0m     \u001b[38;5;28;01mreturn\u001b[39;00m handle_torch_function(\n\u001b[1;32m    514\u001b[0m         Tensor\u001b[38;5;241m.\u001b[39mbackward,\n\u001b[1;32m    515\u001b[0m         (\u001b[38;5;28mself\u001b[39m,),\n\u001b[0;32m   (...)\u001b[0m\n\u001b[1;32m    520\u001b[0m         inputs\u001b[38;5;241m=\u001b[39minputs,\n\u001b[1;32m    521\u001b[0m     )\n\u001b[0;32m--> 522\u001b[0m torch\u001b[38;5;241m.\u001b[39mautograd\u001b[38;5;241m.\u001b[39mbackward(\n\u001b[1;32m    523\u001b[0m     \u001b[38;5;28mself\u001b[39m, gradient, retain_graph, create_graph, inputs\u001b[38;5;241m=\u001b[39minputs\n\u001b[1;32m    524\u001b[0m )\n",
      "File \u001b[0;32m~/opt/anaconda3/envs/ML/lib/python3.11/site-packages/torch/autograd/__init__.py:267\u001b[0m, in \u001b[0;36mbackward\u001b[0;34m(tensors, grad_tensors, retain_graph, create_graph, grad_variables, inputs)\u001b[0m\n\u001b[1;32m    262\u001b[0m     retain_graph \u001b[38;5;241m=\u001b[39m create_graph\n\u001b[1;32m    264\u001b[0m \u001b[38;5;66;03m# The reason we repeat the same comment below is that\u001b[39;00m\n\u001b[1;32m    265\u001b[0m \u001b[38;5;66;03m# some Python versions print out the first line of a multi-line function\u001b[39;00m\n\u001b[1;32m    266\u001b[0m \u001b[38;5;66;03m# calls in the traceback and some print out the last line\u001b[39;00m\n\u001b[0;32m--> 267\u001b[0m _engine_run_backward(\n\u001b[1;32m    268\u001b[0m     tensors,\n\u001b[1;32m    269\u001b[0m     grad_tensors_,\n\u001b[1;32m    270\u001b[0m     retain_graph,\n\u001b[1;32m    271\u001b[0m     create_graph,\n\u001b[1;32m    272\u001b[0m     inputs,\n\u001b[1;32m    273\u001b[0m     allow_unreachable\u001b[38;5;241m=\u001b[39m\u001b[38;5;28;01mTrue\u001b[39;00m,\n\u001b[1;32m    274\u001b[0m     accumulate_grad\u001b[38;5;241m=\u001b[39m\u001b[38;5;28;01mTrue\u001b[39;00m,\n\u001b[1;32m    275\u001b[0m )\n",
      "File \u001b[0;32m~/opt/anaconda3/envs/ML/lib/python3.11/site-packages/torch/autograd/graph.py:690\u001b[0m, in \u001b[0;36m_engine_run_backward\u001b[0;34m(t_outputs, *args, **kwargs)\u001b[0m\n\u001b[1;32m    688\u001b[0m     unregister_hooks \u001b[38;5;241m=\u001b[39m _register_logging_hooks_on_whole_graph(t_outputs)\n\u001b[1;32m    689\u001b[0m \u001b[38;5;28;01mtry\u001b[39;00m:\n\u001b[0;32m--> 690\u001b[0m     \u001b[38;5;28;01mreturn\u001b[39;00m Variable\u001b[38;5;241m.\u001b[39m_execution_engine\u001b[38;5;241m.\u001b[39mrun_backward(  \u001b[38;5;66;03m# Calls into the C++ engine to run the backward pass\u001b[39;00m\n\u001b[1;32m    691\u001b[0m         t_outputs, \u001b[38;5;241m*\u001b[39margs, \u001b[38;5;241m*\u001b[39m\u001b[38;5;241m*\u001b[39mkwargs\n\u001b[1;32m    692\u001b[0m     )  \u001b[38;5;66;03m# Calls into the C++ engine to run the backward pass\u001b[39;00m\n\u001b[1;32m    693\u001b[0m \u001b[38;5;28;01mfinally\u001b[39;00m:\n\u001b[1;32m    694\u001b[0m     \u001b[38;5;28;01mif\u001b[39;00m attach_logging_hooks:\n",
      "\u001b[0;31mKeyboardInterrupt\u001b[0m: "
     ]
    }
   ],
   "source": [
    "n_epochs = 2000\n",
    "for epoch in range(1, n_epochs + 1):\n",
    "  inp, target = random_training_set()\n",
    "  inp, target = inp.to(device), target.to(device)\n",
    "  loss_ = train(inp, target)\n",
    "  loss_avg += loss_\n",
    "#   print('l')\n",
    "\n",
    "  if epoch % print_every == 0:\n",
    "      print('[%s (%d %d%%) %.4f]' % (time.time() - start, epoch, epoch / n_epochs * 100, loss_))\n",
    "      print(evaluate('Wh', 100), '\\n')\n",
    "\n",
    "  if epoch % plot_every == 0:\n",
    "      all_losses.append(loss_avg / plot_every)\n",
    "      loss_avg = 0"
   ]
  },
  {
   "cell_type": "code",
   "execution_count": null,
   "metadata": {
    "colab": {},
    "colab_type": "code",
    "id": "Ee0so6aKJ5L8"
   },
   "outputs": [],
   "source": [
    "for i in range(10):\n",
    "  start_strings = [\" Th\", \" wh\", \" he\", \" I \", \" ca\", \" G\", \" lo\", \" ra\"]\n",
    "  start = random.randint(0,len(start_strings)-1)\n",
    "  print(start_strings[start])\n",
    "#   all_characters.index(string[c])\n",
    "  print(evaluate(start_strings[start], 200), '\\n')"
   ]
  },
  {
   "cell_type": "markdown",
   "metadata": {
    "colab_type": "text",
    "id": "YJhgDc2IauPE"
   },
   "source": [
    "---\n",
    "\n",
    "## Part 6: Generate output on a different dataset\n",
    "\n",
    "---\n",
    "\n",
    "**TODO:**\n",
    "\n",
    "* Choose a textual dataset. Here are some [text datasets](https://www.kaggle.com/datasets?tags=14104-text+data%2C13205-text+mining) from Kaggle \n",
    "\n",
    "* Generate some decent looking results and evaluate your model's performance (say what it did well / not so well)\n",
    "\n",
    "**DONE:**\n",
    "\n"
   ]
  }
 ],
 "metadata": {
  "colab": {
   "collapsed_sections": [],
   "name": "DL_Lab6.ipynb",
   "provenance": [],
   "toc_visible": true
  },
  "kernelspec": {
   "display_name": "Python 3",
   "language": "python",
   "name": "python3"
  },
  "language_info": {
   "codemirror_mode": {
    "name": "ipython",
    "version": 3
   },
   "file_extension": ".py",
   "mimetype": "text/x-python",
   "name": "python",
   "nbconvert_exporter": "python",
   "pygments_lexer": "ipython3",
   "version": "3.11.7"
  },
  "pycharm": {
   "stem_cell": {
    "cell_type": "raw",
    "metadata": {
     "collapsed": false
    },
    "source": []
   }
  }
 },
 "nbformat": 4,
 "nbformat_minor": 2
}
